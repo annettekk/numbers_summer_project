{
 "cells": [
  {
   "cell_type": "code",
   "execution_count": 2,
   "metadata": {},
   "outputs": [
    {
     "name": "stdout",
     "output_type": "stream",
     "text": [
      "Sum of numbers in the file ..\\data\\input_file.txt: 188.23\n"
     ]
    }
   ],
   "source": [
    "def sum_num(filename):\n",
    "    with open(filename, 'r') as f:\n",
    "        total = sum(float(line.strip()) for line in f)\n",
    "        return total \n",
    "\n",
    "if __name__ == \"__main__\":\n",
    "    data_filename = \"..\\\\data\\\\input_file.txt\"\n",
    "    sum = sum_num(data_filename)\n",
    "    print(f\"Sum of numbers in the file {data_filename}: {sum}\")\n",
    "    \n",
    "    \n",
    "    results_dir = '..\\\\results\\\\'\n",
    "    new_file_name = 'test'\n",
    "    new_file = results_dir + new_file_name\n",
    "    #os.mkdir(results_dir)\n",
    "    with open(new_file, 'w') as f_out:\n",
    "        f_out.write(str(sum))"
   ]
  }
 ],
 "metadata": {
  "kernelspec": {
   "display_name": "Python 3",
   "language": "python",
   "name": "python3"
  },
  "language_info": {
   "codemirror_mode": {
    "name": "ipython",
    "version": 3
   },
   "file_extension": ".py",
   "mimetype": "text/x-python",
   "name": "python",
   "nbconvert_exporter": "python",
   "pygments_lexer": "ipython3",
   "version": "3.13.1"
  }
 },
 "nbformat": 4,
 "nbformat_minor": 2
}
